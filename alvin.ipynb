{
 "cells": [
  {
   "cell_type": "code",
   "execution_count": null,
   "metadata": {},
   "outputs": [],
   "source": [
    "#NUMBER1\n",
    "import math\n",
    "\n",
    "def degrees_to_radians(degree):\n",
    "    return degree * (math.pi / 180)\n",
    "\n",
    "degree = 15\n",
    "radian = degrees_to_radians(degree)\n",
    "print(\"Expected Result in radians:\", radian)\n",
    "\n"
   ]
  },
  {
   "cell_type": "code",
   "execution_count": null,
   "metadata": {},
   "outputs": [],
   "source": [
    "#NUMBER2\n",
    "def parallelogram_area(base_length, height):\n",
    "    return base_length * height\n",
    "\n",
    "base_length = 5\n",
    "height = 6\n",
    "area = parallelogram_area(base_length, height)\n",
    "print(\"Area is:\", area)\n"
   ]
  },
  {
   "cell_type": "code",
   "execution_count": null,
   "metadata": {},
   "outputs": [],
   "source": [
    "#NUMBER3\n",
    "def smallest_multiple(n):\n",
    "    factors = []\n",
    "    multiple = 1\n",
    "    for i in range(2, n + 1):\n",
    "        temp = i\n",
    "        for j in factors:\n",
    "            if temp % j == 0:\n",
    "                temp //= j\n",
    "        multiple *= temp\n",
    "        factors.append(temp)\n",
    "    factors = [i for i in range(n, 1, -1)]\n",
    "    return factors, multiple\n",
    "\n",
    "n = 13\n",
    "factors, smallest_multiple_value = smallest_multiple(n)\n",
    "print(factors)\n",
    "print(smallest_multiple_value)\n"
   ]
  },
  {
   "cell_type": "code",
   "execution_count": null,
   "metadata": {},
   "outputs": [],
   "source": [
    "#NUMBER4\n",
    "import numpy as np\n",
    "\n",
    "def is_complex_number(num):\n",
    "    return isinstance(num, complex)\n",
    "\n",
    "def is_real_number(num):\n",
    "    return isinstance(num, (int, float))\n",
    "\n",
    "def is_scalar(num):\n",
    "    return not isinstance(num, (list, tuple, np.ndarray))\n",
    "\n",
    "arr = [1, 2.5, 3+2j]\n",
    "is_complex = [is_complex_number(num) for num in arr]\n",
    "is_real = [is_real_number(num) for num in arr]\n",
    "is_scalar_check = is_scalar(4)  # Change 4 to the number you want to check\n",
    "\n",
    "print(\"Complex elements:\", is_complex)\n",
    "print(\"Real elements:\", is_real)\n",
    "print(\"Is 4 a scalar?\", is_scalar_check)\n"
   ]
  },
  {
   "cell_type": "code",
   "execution_count": null,
   "metadata": {},
   "outputs": [],
   "source": [
    "#NUMBER5\n",
    "import numpy as np\n",
    "\n",
    "def array_memory_size(arr):\n",
    "    return arr.nbytes\n",
    "\n",
    "arr = np.array([1, 7, 13, 105])\n",
    "memory_size = array_memory_size(arr)\n",
    "\n",
    "print(\"Memory size of the array:\", memory_size, \"bytes\")\n"
   ]
  }
 ],
 "metadata": {
  "language_info": {
   "name": "python"
  }
 },
 "nbformat": 4,
 "nbformat_minor": 2
}
